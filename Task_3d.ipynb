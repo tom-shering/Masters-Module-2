{
  "nbformat": 4,
  "nbformat_minor": 0,
  "metadata": {
    "colab": {
      "provenance": [],
      "authorship_tag": "ABX9TyOEdEtDGc4xXDEB0nSS3NkR",
      "include_colab_link": true
    },
    "kernelspec": {
      "name": "python3",
      "display_name": "Python 3"
    },
    "language_info": {
      "name": "python"
    }
  },
  "cells": [
    {
      "cell_type": "markdown",
      "metadata": {
        "id": "view-in-github",
        "colab_type": "text"
      },
      "source": [
        "<a href=\"https://colab.research.google.com/github/tom-shering/Masters-Module-2/blob/main/Task_3d.ipynb\" target=\"_parent\"><img src=\"https://colab.research.google.com/assets/colab-badge.svg\" alt=\"Open In Colab\"/></a>"
      ]
    },
    {
      "cell_type": "code",
      "execution_count": 15,
      "metadata": {
        "id": "bVEGnMzM4syO"
      },
      "outputs": [],
      "source": [
        "# Authors: Abhimanyu and Tom\n",
        "\n",
        "# QUESTIONS \n",
        "# 1. num_process = 0. Is that standard practice? \n",
        "# 2. Dropout is originally introduced but not used in model 2?\n",
        "# 3. Why isn't the last model saved as a model? How is it trained? \n",
        "\n",
        "# ACTIONS \n",
        "# 1. Create a train_model() function.\n",
        "\n",
        "import torch\n",
        "import numpy as np\n",
        "from torchvision import datasets\n",
        "import torchvision.transforms as transforms\n",
        "from torch.utils.data.sampler import SubsetRandomSampler\n",
        "\n",
        "import torch.nn as nn\n",
        "import torch.nn.functional as F\n"
      ]
    },
    {
      "cell_type": "markdown",
      "source": [
        "# 1. Initial Preparation"
      ],
      "metadata": {
        "id": "dHocxjsbA0qP"
      }
    },
    {
      "cell_type": "code",
      "source": [
        "# Check if GPU is available:\n",
        "gpu_trainer = torch.cuda.is_available()\n",
        "\n",
        "if not gpu_trainer:\n",
        "    print('No GPU Support. Training on CPU')\n",
        "else:\n",
        "    print('GPU is available! Training on GPU')"
      ],
      "metadata": {
        "colab": {
          "base_uri": "https://localhost:8080/"
        },
        "id": "rrXb7UZh5Ccp",
        "outputId": "8d4700ac-363e-4143-bfe3-fdc9212514f2"
      },
      "execution_count": 16,
      "outputs": [
        {
          "output_type": "stream",
          "name": "stdout",
          "text": [
            "No GPU Support. Training on CPU\n"
          ]
        }
      ]
    },
    {
      "cell_type": "code",
      "source": [
        "# Number of subprocesses to use for data loading:\n",
        "num_process = 0\n",
        "# Batch size:\n",
        "batch_size = 20\n",
        "# Validation proportional size: \n",
        "valid_size = 0.2\n",
        "\n",
        "# Transform to convert data to a normalized torch.FloatTensor:\n",
        "transformer = transforms.Compose([\n",
        "    transforms.ToTensor(),\n",
        "    transforms.RandomHorizontalFlip(), #Default probability = 0.5\n",
        "    transforms.Normalize((0.5, 0.5, 0.5), (0.5, 0.5, 0.5)) \n",
        "    # transforms.Normalize maps to mean = 0, with -1 >= x >= 1\n",
        "    ])\n",
        "\n",
        "# Training and test datasets: \n",
        "training_data = datasets.CIFAR10('data', train=True,\n",
        "                              download=True, transform=transformer)\n",
        "testing_data = datasets.CIFAR10('data', train=False,\n",
        "                             download=True, transform=transformer)\n",
        "\n",
        "# Obtain training indices that will be used for validation:\n",
        "num_train = len(training_data)\n",
        "indices = list(range(num_train))\n",
        "np.random.shuffle(indices)\n",
        "split = int(np.floor(valid_size * num_train))\n",
        "train_idx, valid_idx = indices[split:], indices[:split]\n",
        "\n",
        "# Define samplers for training and validation batches:\n",
        "train_sampler = SubsetRandomSampler(train_idx)\n",
        "valid_sampler = SubsetRandomSampler(valid_idx)\n",
        "\n",
        "# Prepare data loaders:\n",
        "train_loader = torch.utils.data.DataLoader(training_data, batch_size=batch_size,\n",
        "    sampler=train_sampler, num_workers=num_process)\n",
        "valid_loader = torch.utils.data.DataLoader(training_data, batch_size=batch_size, \n",
        "    sampler=valid_sampler, num_workers=num_process)\n",
        "test_loader = torch.utils.data.DataLoader(testing_data, batch_size=batch_size, \n",
        "    num_workers=num_process)\n",
        "\n",
        "# Specify the image classes:\n",
        "classes = [\"Airplane\", \"Automobile\", \"Bird\", \"Cat\", \"Deer\",\n",
        "           \"Dog\", \"Frog\", \"Horse\", \"Ship\", \"Truck\"]"
      ],
      "metadata": {
        "colab": {
          "base_uri": "https://localhost:8080/"
        },
        "id": "nEAJQ2Ri5dBm",
        "outputId": "1017495e-579e-4c3f-cafb-8c6afaab2ae7"
      },
      "execution_count": 17,
      "outputs": [
        {
          "output_type": "stream",
          "name": "stdout",
          "text": [
            "Files already downloaded and verified\n",
            "Files already downloaded and verified\n"
          ]
        }
      ]
    },
    {
      "cell_type": "markdown",
      "source": [
        "#2. Visualising Images \n"
      ],
      "metadata": {
        "id": "pRl9AOYpAbFf"
      }
    },
    {
      "cell_type": "code",
      "source": [
        "import matplotlib.pyplot as plt\n",
        "%matplotlib inline\n",
        "\n",
        "# Display sample images:\n",
        "def imshow(img):\n",
        "    img = (img * 0.5) + 0.5  # de-normalizing\n",
        "    plt.imshow(np.transpose(img, (1, 2, 0)))  # convert from Tensor image\n",
        "# training images\n",
        "iter_data = iter(train_loader)\n",
        "images, labels = iter_data.__next__()\n",
        "images = images.numpy() # convert images to numpy for display\n",
        "# plot the images in the batch, along with the corresponding labels\n",
        "fig = plt.figure(figsize=(25, 4))\n",
        "# display 20 images\n",
        "for idx in np.arange(20):\n",
        "  ax = fig.add_subplot(2, 20/2, idx+1, xticks=[], yticks=[])\n",
        "  imshow(images[idx])\n",
        "  ax.set_title(classes[labels[idx]])"
      ],
      "metadata": {
        "colab": {
          "base_uri": "https://localhost:8080/",
          "height": 249
        },
        "id": "6LIhB4OT_l4Y",
        "outputId": "5fd9eaac-9a3a-4693-e770-ebda7f119ff3"
      },
      "execution_count": 18,
      "outputs": [
        {
          "output_type": "display_data",
          "data": {
            "text/plain": [
              "<Figure size 1800x288 with 20 Axes>"
            ],
            "image/png": "[encoded data removed]"
          },
          "metadata": {}
        }
      ]
    },
    {
      "cell_type": "markdown",
      "source": [
        "# 3. Base CNN Design"
      ],
      "metadata": {
        "id": "u-o3lf1tA_R3"
      }
    },
    {
      "cell_type": "code",
      "source": [
        "# REFERENCE: Initial layer design adapted from PyTorch Website \n",
        "class CNN(nn.Module):\n",
        "  def __init__(self):\n",
        "    super(CNN, self).__init__()\n",
        "    self.conv1 = nn.Conv2d(in_channels = 3, out_channels = 6, kernel_size = 5)\n",
        "    self.conv2 = nn.Conv2d(in_channels = 6, out_channels = 16, kernel_size = 5)\n",
        "    self.pool = nn.MaxPool2d(kernel_size = 2) # default stride = kernel_size\n",
        "    self.fc1 = nn.Linear(in_features = 16*5*5, out_features=120)\n",
        "    self.fc2 = nn.Linear(in_features = 120, out_features=64)\n",
        "    self.fc3 = nn.Linear(in_features = 64, out_features=10)\n",
        "\n",
        "  def forward(self, x):\n",
        "    x = self.pool(F.relu(self.conv1(x)))\n",
        "    x = self.pool(F.relu(self.conv2(x)))\n",
        "    x = x.view(-1, 16 * 5 * 5)\n",
        "    x = F.relu(self.fc1(x))\n",
        "    x = F.relu(self.fc2(x))\n",
        "    x = self.fc3(x)\n",
        "    return x\n",
        "\n",
        "# Create a complete CNN\n",
        "model = CNN()\n",
        "print(model)\n",
        "\n",
        "# Move tensors to GPU if CUDA is available\n",
        "if gpu_trainer: model.cuda()"
      ],
      "metadata": {
        "colab": {
          "base_uri": "https://localhost:8080/"
        },
        "id": "7Ch4i9oJAQ0o",
        "outputId": "9376e17c-2ba4-4cd7-cfbd-f219a1dba6db"
      },
      "execution_count": 22,
      "outputs": [
        {
          "output_type": "stream",
          "name": "stdout",
          "text": [
            "CNN(\n",
            "  (conv1): Conv2d(3, 6, kernel_size=(5, 5), stride=(1, 1))\n",
            "  (pool): MaxPool2d(kernel_size=2, stride=2, padding=0, dilation=1, ceil_mode=False)\n",
            "  (conv2): Conv2d(6, 16, kernel_size=(5, 5), stride=(1, 1))\n",
            "  (fc1): Linear(in_features=400, out_features=120, bias=True)\n",
            "  (fc2): Linear(in_features=120, out_features=84, bias=True)\n",
            "  (fc3): Linear(in_features=84, out_features=10, bias=True)\n",
            ")\n"
          ]
        }
      ]
    },
    {
      "cell_type": "markdown",
      "source": [
        "#4. Optimizer and Loss Function"
      ],
      "metadata": {
        "id": "fuTyejfTENwd"
      }
    },
    {
      "cell_type": "code",
      "source": [
        "import torch.optim as optim\n",
        "\n",
        "# Optimizer function:\n",
        "# specify optimizer - ADAM with default hyperparameters and a learning rate of 0.01\n",
        "optimizer = optim.Adam(model.parameters(), lr=.01)\n",
        "# Loss function:\n",
        "criterion = nn.CrossEntropyLoss() #CrossEntropy loss for multiclass classification\n"
      ],
      "metadata": {
        "id": "CcyShT_BEHOE"
      },
      "execution_count": 20,
      "outputs": []
    },
    {
      "cell_type": "markdown",
      "source": [
        "#5. Training the Model "
      ],
      "metadata": {
        "id": "xnmGCzXiEiJm"
      }
    },
    {
      "cell_type": "code",
      "source": [
        " # Number of epochs to train the model:\n",
        "n_epochs = 30\n",
        "# Initializing empty list for recording loss / epoch:\n",
        "train_losslist = []\n",
        "valid_losslist = []\n",
        "valid_loss_min = np.Inf # track change in validation loss\n",
        "\n",
        "for epoch in range(1, n_epochs+1):\n",
        "\n",
        "    # keep track of training and validation loss\n",
        "    train_loss = 0.0\n",
        "    valid_loss = 0.0\n",
        "    \n",
        "\n",
        "    # training the model \n",
        "    \n",
        "    model.train()\n",
        "    for data, target in train_loader:\n",
        "        # for GPU\n",
        "        if gpu_trainer:\n",
        "            data, target = data.cuda(), target.cuda()\n",
        "        # clear the gradients of all optimized variables\n",
        "        optimizer.zero_grad()\n",
        "        # compute predicted outputs by passing inputs to the model\n",
        "        output = model(data)\n",
        "        # calculate the batch loss\n",
        "        loss = criterion(output, target)\n",
        "        # backward pass\n",
        "        loss.backward()\n",
        "        #parameter update\n",
        "        optimizer.step()\n",
        "        # update training loss\n",
        "        train_loss += loss.item()*data.size(0)\n",
        "        \n",
        "  \n",
        "    # Validate the model:\n",
        "\n",
        "    model.eval()\n",
        "    for data, target in valid_loader:\n",
        "        # if gpu is available\n",
        "        if gpu_trainer:\n",
        "            data, target = data.cuda(), target.cuda()\n",
        "        # forward pass:  predict outputs by passing inputs to the model\n",
        "        output = model(data)\n",
        "        # calculate the batch loss\n",
        "        loss = criterion(output, target)\n",
        "        # update average validation loss \n",
        "        valid_loss += loss.item()*data.size(0)\n",
        "    \n",
        "    # Calculate average losses:\n",
        "    train_loss = train_loss/len(train_loader.dataset)\n",
        "    valid_loss = valid_loss/len(valid_loader.dataset)\n",
        "    train_losslist.append(train_loss)\n",
        "    valid_losslist.append(valid_loss)\n",
        "        \n",
        "    # Print training/validation statistics:\n",
        "    print('Epoch: {} \\tTraining Loss: {:.6f} \\tValidation Loss: {:.6f}'.format(\n",
        "        epoch, train_loss, valid_loss))\n",
        "    \n",
        "    # Save model if validation loss has decreased:\n",
        "    if valid_loss <= valid_loss_min:\n",
        "        print('Validation loss decreased ({:.6f} --> {:.6f}).  Saving model ...'.format(\n",
        "        valid_loss_min,\n",
        "        valid_loss))\n",
        "        torch.save(model.state_dict(), 'model_cifar.pt')\n",
        "        valid_loss_min = valid_loss\n",
        "\n",
        "i = [*range(n_epochs)]\n",
        "plt.plot(i, train_losslist)\n",
        "plt.plot(i, valid_losslist)\n",
        "plt.xlabel(\"Epoch\")\n",
        "plt.ylabel(\"Loss\")\n",
        "plt.title(\"Performance of Model 1\")\n",
        "plt.show()"
      ],
      "metadata": {
        "colab": {
          "base_uri": "https://localhost:8080/",
          "height": 938
        },
        "id": "NjY3biRoEflB",
        "outputId": "b7dddd0d-1289-45e8-a043-7928c4a867e0"
      },
      "execution_count": 23,
      "outputs": [
        {
          "output_type": "stream",
          "name": "stdout",
          "text": [
            "Epoch: 1 \tTraining Loss: 1.843467 \tValidation Loss: 0.460964\n",
            "Validation loss decreased (inf --> 0.460964).  Saving model ...\n",
            "Epoch: 2 \tTraining Loss: 1.843468 \tValidation Loss: 0.460951\n",
            "Validation loss decreased (0.460964 --> 0.460951).  Saving model ...\n",
            "Epoch: 3 \tTraining Loss: 1.843454 \tValidation Loss: 0.460961\n",
            "Epoch: 4 \tTraining Loss: 1.843475 \tValidation Loss: 0.460960\n",
            "Epoch: 5 \tTraining Loss: 1.843445 \tValidation Loss: 0.460950\n",
            "Validation loss decreased (0.460951 --> 0.460950).  Saving model ...\n",
            "Epoch: 6 \tTraining Loss: 1.843458 \tValidation Loss: 0.460950\n",
            "Epoch: 7 \tTraining Loss: 1.843476 \tValidation Loss: 0.460949\n",
            "Validation loss decreased (0.460950 --> 0.460949).  Saving model ...\n",
            "Epoch: 8 \tTraining Loss: 1.843443 \tValidation Loss: 0.460961\n",
            "Epoch: 9 \tTraining Loss: 1.843461 \tValidation Loss: 0.460951\n",
            "Epoch: 10 \tTraining Loss: 1.843439 \tValidation Loss: 0.460960\n",
            "Epoch: 11 \tTraining Loss: 1.843448 \tValidation Loss: 0.460949\n",
            "Validation loss decreased (0.460949 --> 0.460949).  Saving model ...\n",
            "Epoch: 12 \tTraining Loss: 1.843440 \tValidation Loss: 0.460955\n",
            "Epoch: 13 \tTraining Loss: 1.843456 \tValidation Loss: 0.460957\n",
            "Epoch: 14 \tTraining Loss: 1.843468 \tValidation Loss: 0.460937\n",
            "Validation loss decreased (0.460949 --> 0.460937).  Saving model ...\n",
            "Epoch: 15 \tTraining Loss: 1.843459 \tValidation Loss: 0.460949\n",
            "Epoch: 16 \tTraining Loss: 1.843457 \tValidation Loss: 0.460963\n",
            "Epoch: 17 \tTraining Loss: 1.843461 \tValidation Loss: 0.460961\n",
            "Epoch: 18 \tTraining Loss: 1.843477 \tValidation Loss: 0.460967\n",
            "Epoch: 19 \tTraining Loss: 1.843453 \tValidation Loss: 0.460954\n",
            "Epoch: 20 \tTraining Loss: 1.843483 \tValidation Loss: 0.460945\n",
            "Epoch: 21 \tTraining Loss: 1.843444 \tValidation Loss: 0.460966\n",
            "Epoch: 22 \tTraining Loss: 1.843493 \tValidation Loss: 0.460954\n",
            "Epoch: 23 \tTraining Loss: 1.843475 \tValidation Loss: 0.460950\n",
            "Epoch: 24 \tTraining Loss: 1.843472 \tValidation Loss: 0.460964\n",
            "Epoch: 25 \tTraining Loss: 1.843434 \tValidation Loss: 0.460961\n",
            "Epoch: 26 \tTraining Loss: 1.843469 \tValidation Loss: 0.460960\n",
            "Epoch: 27 \tTraining Loss: 1.843461 \tValidation Loss: 0.460969\n",
            "Epoch: 28 \tTraining Loss: 1.843454 \tValidation Loss: 0.460946\n",
            "Epoch: 29 \tTraining Loss: 1.843478 \tValidation Loss: 0.460956\n",
            "Epoch: 30 \tTraining Loss: 1.843433 \tValidation Loss: 0.460962\n"
          ]
        },
        {
          "output_type": "display_data",
          "data": {
            "text/plain": [
              "<Figure size 432x288 with 1 Axes>"
            ],
            "image/png": "[encoded data removed]"
          },
          "metadata": {
            "needs_background": "light"
          }
        }
      ]
    },
    {
      "cell_type": "markdown",
      "source": [
        "## Loading model "
      ],
      "metadata": {
        "id": "2buWrKGJKnDZ"
      }
    },
    {
      "cell_type": "code",
      "source": [
        "model.load_state_dict(torch.load('model_cifar.pt'))\n",
        "# we could save the best one as well to compare later "
      ],
      "metadata": {
        "id": "8Wvnk7BvKiSu"
      },
      "execution_count": null,
      "outputs": []
    },
    {
      "cell_type": "markdown",
      "source": [
        "#6. Testing the Model"
      ],
      "metadata": {
        "id": "j3KnlLjgK77b"
      }
    },
    {
      "cell_type": "code",
      "source": [
        "# track test loss\n",
        "test_loss = 0.0\n",
        "class_correct = list(0. for i in range(10))\n",
        "class_total = list(0. for i in range(10))\n",
        "\n",
        "model.eval()\n",
        "# iterate over test data\n",
        "for data, target in test_loader:\n",
        "    # move tensors to GPU if CUDA is available\n",
        "    if gpu_trainer:\n",
        "        data, target = data.cuda(), target.cuda()\n",
        "    # forward pass: predict outputs by passing inputs to the model\n",
        "    output = model(data)\n",
        "    # calculate the batch loss\n",
        "    loss = criterion(output, target)\n",
        "    # update test loss \n",
        "    test_loss += loss.item()*data.size(0)\n",
        "    # convert output probabilities to predicted class\n",
        "    _, pred = torch.max(output, 1)    \n",
        "    # compare predictions to true label\n",
        "    correct_tensor = pred.eq(target.data.view_as(pred))\n",
        "    correct = np.squeeze(correct_tensor.numpy()) if not gpu_trainer else np.squeeze(correct_tensor.cpu().numpy())\n",
        "    # calculate test accuracy for each object class\n",
        "  \n",
        "    for i in range(batch_size):\n",
        "      \n",
        "      label = target.data[i]\n",
        "      class_correct[label] += correct[i].item()\n",
        "      class_total[label] += 1\n",
        "      \n",
        "\n",
        "# average test loss\n",
        "test_loss = test_loss/len(test_loader.dataset)\n",
        "print('Test Loss: {:.6f}\\n'.format(test_loss))\n",
        "\n",
        "for i in range(10):\n",
        "    if class_total[i] > 0:\n",
        "        print('Test Accuracy of %5s: %2d%% (%2d/%2d)' % (\n",
        "            classes[i], 100 * class_correct[i] / class_total[i],\n",
        "            np.sum(class_correct[i]), np.sum(class_total[i])))\n",
        "    else:\n",
        "        print('Test Accuracy of %5s: N/A (no training examples)' % (classes[i]))\n",
        "\n",
        "print('\\nTest Accuracy (Overall): %2d%% (%2d/%2d)' % (\n",
        "    100. * np.sum(class_correct) / np.sum(class_total),\n",
        "    np.sum(class_correct), np.sum(class_total)))"
      ],
      "metadata": {
        "colab": {
          "base_uri": "https://localhost:8080/"
        },
        "id": "i36I8syoKyar",
        "outputId": "ab184fe5-0c4a-4aea-a839-db3e3b30a7a2"
      },
      "execution_count": 24,
      "outputs": [
        {
          "output_type": "stream",
          "name": "stdout",
          "text": [
            "Test Loss: 2.304434\n",
            "\n",
            "Test Accuracy of Airplane:  0% ( 0/1000)\n",
            "Test Accuracy of Automobile:  0% ( 0/1000)\n",
            "Test Accuracy of  Bird:  0% ( 0/1000)\n",
            "Test Accuracy of   Cat: 89% (896/1000)\n",
            "Test Accuracy of  Deer:  0% ( 0/1000)\n",
            "Test Accuracy of   Dog:  0% ( 0/1000)\n",
            "Test Accuracy of  Frog:  0% ( 0/1000)\n",
            "Test Accuracy of Horse:  8% (86/1000)\n",
            "Test Accuracy of  Ship:  0% ( 0/1000)\n",
            "Test Accuracy of Truck:  0% ( 0/1000)\n",
            "\n",
            "Test Accuracy (Overall):  9% (982/10000)\n"
          ]
        }
      ]
    },
    {
      "cell_type": "markdown",
      "source": [
        "# 7. Improving the Model  \n",
        "## Adding padding"
      ],
      "metadata": {
        "id": "Y9CYbGEgLr2I"
      }
    },
    {
      "cell_type": "code",
      "source": [
        "class CNN2(nn.Module):\n",
        "  def __init__(self):\n",
        "    super(CNN2, self).__init__()\n",
        "    self.conv1 = nn.Conv2d(in_channels = 3, out_channels = 6, kernel_size = 5, padding = 1)\n",
        "    self.conv2 = nn.Conv2d(in_channels = 6, out_channels = 16, kernel_size = 5, padding =1)\n",
        "    self.pool = nn.MaxPool2d(kernel_size = 2) # default stride = kernel_size\n",
        "    self.fc1 = nn.Linear(in_features = 16*5*5, out_features=120)\n",
        "    self.fc2 = nn.Linear(in_features = 120, out_features=64)\n",
        "    self.fc3 = nn.Linear(in_features = 64, out_features=10)\n",
        "\n",
        "  def forward(self, x):\n",
        "    x = self.pool(F.relu(self.conv1(x)))\n",
        "    x = self.pool(F.relu(self.conv2(x)))\n",
        "    x = x.view(-1, 16 * 5 * 5)\n",
        "    x = F.relu(self.fc1(x))\n",
        "    x = F.relu(self.fc2(x))\n",
        "    x = self.fc3(x)\n",
        "    return x\n",
        "\n",
        "# Create a complete CNN:\n",
        "model_2 = CNN2()\n",
        "print(model)\n",
        "\n",
        "# Move tensors to GPU if CUDA is available:\n",
        "if gpu_trainer:\n",
        "  model.cuda()"
      ],
      "metadata": {
        "colab": {
          "base_uri": "https://localhost:8080/"
        },
        "id": "3HF3seumLt-_",
        "outputId": "c12a3fe1-ee55-4d19-fce8-420c91d37a95"
      },
      "execution_count": 25,
      "outputs": [
        {
          "output_type": "stream",
          "name": "stdout",
          "text": [
            "CNN(\n",
            "  (conv1): Conv2d(3, 6, kernel_size=(5, 5), stride=(1, 1))\n",
            "  (pool): MaxPool2d(kernel_size=2, stride=2, padding=0, dilation=1, ceil_mode=False)\n",
            "  (conv2): Conv2d(6, 16, kernel_size=(5, 5), stride=(1, 1))\n",
            "  (fc1): Linear(in_features=400, out_features=120, bias=True)\n",
            "  (fc2): Linear(in_features=120, out_features=84, bias=True)\n",
            "  (fc3): Linear(in_features=84, out_features=10, bias=True)\n",
            ")\n"
          ]
        }
      ]
    },
    {
      "cell_type": "code",
      "source": [
        "# Number of epochs to train the model:\n",
        "n_epochs = 20\n",
        "# Initializing empty list for recording loss / epoch:\n",
        "train_losslist = []\n",
        "valid_losslist = []\n",
        "valid_loss_min = np.Inf # track change in validation loss\n",
        "\n",
        "for epoch in range(1, n_epochs+1):\n",
        "\n",
        "    # keep track of training and validation loss\n",
        "    train_loss = 0.0\n",
        "    valid_loss = 0.0\n",
        "    \n",
        "\n",
        "    # training the model \n",
        "    \n",
        "    model_2.train()\n",
        "    for data, target in train_loader:\n",
        "        # for GPU\n",
        "        if gpu_trainer:\n",
        "            data, target = data.cuda(), target.cuda()\n",
        "        # clear the gradients of all optimized variables\n",
        "        optimizer.zero_grad()\n",
        "        # compute predicted outputs by passing inputs to the model\n",
        "        output = model(data)\n",
        "        # calculate the batch loss\n",
        "        loss = criterion(output, target)\n",
        "        # backward pass\n",
        "        loss.backward()\n",
        "        #parameter update\n",
        "        optimizer.step()\n",
        "        # update training loss\n",
        "        train_loss += loss.item()*data.size(0)\n",
        "        \n",
        "  \n",
        "    # Validate the model:\n",
        "\n",
        "    model_2.eval()\n",
        "    for data, target in valid_loader:\n",
        "        # if gpu is available\n",
        "        if gpu_trainer:\n",
        "            data, target = data.cuda(), target.cuda()\n",
        "        # forward pass:  predict outputs by passing inputs to the model\n",
        "        output = model(data)\n",
        "        # calculate the batch loss\n",
        "        loss = criterion(output, target)\n",
        "        # update average validation loss \n",
        "        valid_loss += loss.item()*data.size(0)\n",
        "    \n",
        "    # Calculate average losses:\n",
        "    train_loss = train_loss/len(train_loader.dataset)\n",
        "    valid_loss = valid_loss/len(valid_loader.dataset)\n",
        "    train_losslist.append(train_loss)\n",
        "    valid_losslist.append(valid_loss)\n",
        "        \n",
        "    # Print training/validation statistics:\n",
        "    print('Epoch: {} \\tTraining Loss: {:.6f} \\tValidation Loss: {:.6f}'.format(\n",
        "        epoch, train_loss, valid_loss))\n",
        "    \n",
        "    # Save model if validation loss has decreased:\n",
        "    if valid_loss <= valid_loss_min:\n",
        "        print('Validation loss decreased ({:.6f} --> {:.6f}).  Saving model ...'.format(\n",
        "        valid_loss_min,\n",
        "        valid_loss))\n",
        "        torch.save(model_2.state_dict(), 'model_cifar.pt')\n",
        "        valid_loss_min = valid_loss\n",
        "\n",
        "i = [*range(n_epochs)]\n",
        "plt.plot(i, train_losslist)\n",
        "plt.plot(i, valid_losslist)\n",
        "plt.xlabel(\"Epoch\")\n",
        "plt.ylabel(\"Loss\")\n",
        "plt.title(\"Performance of Model 2\")\n",
        "plt.show()"
      ],
      "metadata": {
        "colab": {
          "base_uri": "https://localhost:8080/",
          "height": 741
        },
        "id": "vtXqPOvWMf7c",
        "outputId": "4272fdc3-8051-4d9b-f638-6f99bb0fc67c"
      },
      "execution_count": 26,
      "outputs": [
        {
          "output_type": "stream",
          "name": "stdout",
          "text": [
            "Epoch: 1 \tTraining Loss: 1.843469 \tValidation Loss: 0.460960\n",
            "Validation loss decreased (inf --> 0.460960).  Saving model ...\n",
            "Epoch: 2 \tTraining Loss: 1.843450 \tValidation Loss: 0.460965\n",
            "Epoch: 3 \tTraining Loss: 1.843458 \tValidation Loss: 0.460958\n",
            "Validation loss decreased (0.460960 --> 0.460958).  Saving model ...\n",
            "Epoch: 4 \tTraining Loss: 1.843464 \tValidation Loss: 0.460958\n",
            "Epoch: 5 \tTraining Loss: 1.843453 \tValidation Loss: 0.460958\n",
            "Validation loss decreased (0.460958 --> 0.460958).  Saving model ...\n",
            "Epoch: 6 \tTraining Loss: 1.843472 \tValidation Loss: 0.460961\n",
            "Epoch: 7 \tTraining Loss: 1.843441 \tValidation Loss: 0.460960\n",
            "Epoch: 8 \tTraining Loss: 1.843441 \tValidation Loss: 0.460946\n",
            "Validation loss decreased (0.460958 --> 0.460946).  Saving model ...\n",
            "Epoch: 9 \tTraining Loss: 1.843443 \tValidation Loss: 0.460947\n",
            "Epoch: 10 \tTraining Loss: 1.843449 \tValidation Loss: 0.460939\n",
            "Validation loss decreased (0.460946 --> 0.460939).  Saving model ...\n",
            "Epoch: 11 \tTraining Loss: 1.843449 \tValidation Loss: 0.460956\n",
            "Epoch: 12 \tTraining Loss: 1.843472 \tValidation Loss: 0.460957\n",
            "Epoch: 13 \tTraining Loss: 1.843482 \tValidation Loss: 0.460946\n",
            "Epoch: 14 \tTraining Loss: 1.843461 \tValidation Loss: 0.460954\n",
            "Epoch: 15 \tTraining Loss: 1.843457 \tValidation Loss: 0.460951\n",
            "Epoch: 16 \tTraining Loss: 1.843451 \tValidation Loss: 0.460962\n",
            "Epoch: 17 \tTraining Loss: 1.843469 \tValidation Loss: 0.460960\n",
            "Epoch: 18 \tTraining Loss: 1.843473 \tValidation Loss: 0.460957\n",
            "Epoch: 19 \tTraining Loss: 1.843471 \tValidation Loss: 0.460956\n",
            "Epoch: 20 \tTraining Loss: 1.843474 \tValidation Loss: 0.460966\n"
          ]
        },
        {
          "output_type": "display_data",
          "data": {
            "text/plain": [
              "<Figure size 432x288 with 1 Axes>"
            ],
            "image/png": "[encoded data removed]"
          },
          "metadata": {
            "needs_background": "light"
          }
        }
      ]
    },
    {
      "cell_type": "markdown",
      "source": [
        "#8. Improving the Model \n",
        "## Adding an extra conv layer and more channels"
      ],
      "metadata": {
        "id": "es1Dyt8RRxNL"
      }
    },
    {
      "cell_type": "code",
      "source": [
        "class CNN3(nn.Module):\n",
        "  def __init__(self):\n",
        "    super(CNN3, self).__init__()\n",
        "    self.conv1 = nn.Conv2d(in_channels = 3, out_channels = 16, kernel_size = 5, padding = 1)\n",
        "    self.conv2 = nn.Conv2d(in_channels = 16, out_channels = 32, kernel_size = 5, padding =1)\n",
        "    self.conv3 = nn.Conv2d(in_channels = 32, out_channels = 64, kernel_size = 5, padding =1)\n",
        "    self.pool = nn.MaxPool2d(kernel_size = 2) # default stride = kernel_siz\n",
        "    self.fc1 = nn.Linear(in_features = 64*4*4, out_features=256)\n",
        "    self.fc2 = nn.Linear(in_features = 256, out_features=64)\n",
        "    self.fc3 = nn.Linear(in_features = 64, out_features=10)\n",
        "\n",
        "  def forward(self, x):\n",
        "    x = self.pool(F.relu(self.conv1(x)))\n",
        "    x = self.pool(F.relu(self.conv2(x)))\n",
        "    x = self.pool(F.relu(self.conv3(x)))\n",
        "    x = x.view(-1, 64 * 4 * 4)\n",
        "    x = F.relu(self.fc1(x))\n",
        "    x = F.relu(self.fc2(x))\n",
        "    x = self.fc3(x)\n",
        "    return x\n",
        "\n",
        "# Create a complete CNN:\n",
        "model_3 = CNN3()\n",
        "print(model)\n",
        "\n",
        "# Move tensors to GPU if CUDA is available:\n",
        "if gpu_trainer:\n",
        "  model.cuda()"
      ],
      "metadata": {
        "colab": {
          "base_uri": "https://localhost:8080/"
        },
        "id": "9zZ9fGO1PoKf",
        "outputId": "b99f9553-6b8f-4625-d07d-54b210f8b8d2"
      },
      "execution_count": 33,
      "outputs": [
        {
          "output_type": "stream",
          "name": "stdout",
          "text": [
            "CNN(\n",
            "  (conv1): Conv2d(3, 6, kernel_size=(5, 5), stride=(1, 1))\n",
            "  (pool): MaxPool2d(kernel_size=2, stride=2, padding=0, dilation=1, ceil_mode=False)\n",
            "  (conv2): Conv2d(6, 16, kernel_size=(5, 5), stride=(1, 1))\n",
            "  (fc1): Linear(in_features=400, out_features=120, bias=True)\n",
            "  (fc2): Linear(in_features=120, out_features=84, bias=True)\n",
            "  (fc3): Linear(in_features=84, out_features=10, bias=True)\n",
            ")\n"
          ]
        }
      ]
    },
    {
      "cell_type": "code",
      "source": [
        "# Number of epochs to train the model:\n",
        "n_epochs = 20\n",
        "# Initializing empty list for recording loss / epoch:\n",
        "train_losslist = []\n",
        "valid_losslist = []\n",
        "valid_loss_min = np.Inf # track change in validation loss\n",
        "\n",
        "for epoch in range(1, n_epochs+1):\n",
        "\n",
        "    # keep track of training and validation loss\n",
        "    train_loss = 0.0\n",
        "    valid_loss = 0.0\n",
        "    \n",
        "\n",
        "    # training the model \n",
        "    \n",
        "    model_3.train()\n",
        "    for data, target in train_loader:\n",
        "        # for GPU\n",
        "        if gpu_trainer:\n",
        "            data, target = data.cuda(), target.cuda()\n",
        "        # clear the gradients of all optimized variables\n",
        "        optimizer.zero_grad()\n",
        "        # compute predicted outputs by passing inputs to the model\n",
        "        output = model(data)\n",
        "        # calculate the batch loss\n",
        "        loss = criterion(output, target)\n",
        "        # backward pass\n",
        "        loss.backward()\n",
        "        #parameter update\n",
        "        optimizer.step()\n",
        "        # update training loss\n",
        "        train_loss += loss.item()*data.size(0)\n",
        "        \n",
        "  \n",
        "    # Validate the model:\n",
        "\n",
        "    model_3.eval()\n",
        "    for data, target in valid_loader:\n",
        "        # if gpu is available\n",
        "        if gpu_trainer:\n",
        "            data, target = data.cuda(), target.cuda()\n",
        "        # forward pass:  predict outputs by passing inputs to the model\n",
        "        output = model(data)\n",
        "        # calculate the batch loss\n",
        "        loss = criterion(output, target)\n",
        "        # update average validation loss \n",
        "        valid_loss += loss.item()*data.size(0)\n",
        "    \n",
        "    # Calculate average losses:\n",
        "    train_loss = train_loss/len(train_loader.dataset)\n",
        "    valid_loss = valid_loss/len(valid_loader.dataset)\n",
        "    train_losslist.append(train_loss)\n",
        "    valid_losslist.append(valid_loss)\n",
        "        \n",
        "    # Print training/validation statistics:\n",
        "    print('Epoch: {} \\tTraining Loss: {:.6f} \\tValidation Loss: {:.6f}'.format(\n",
        "        epoch, train_loss, valid_loss))\n",
        "    \n",
        "    # Save model if validation loss has decreased:\n",
        "    if valid_loss <= valid_loss_min:\n",
        "        print('Validation loss decreased ({:.6f} --> {:.6f}).  Saving model ...'.format(\n",
        "        valid_loss_min,\n",
        "        valid_loss))\n",
        "        torch.save(model_2.state_dict(), 'model_cifar.pt')\n",
        "        valid_loss_min = valid_loss\n",
        "\n",
        "i = [*range(n_epochs)]\n",
        "plt.plot(i, train_losslist)\n",
        "plt.plot(i, valid_losslist)\n",
        "plt.xlabel(\"Epoch\")\n",
        "plt.ylabel(\"Loss\")\n",
        "plt.title(\"Performance of Model 3\")\n",
        "plt.show()"
      ],
      "metadata": {
        "colab": {
          "base_uri": "https://localhost:8080/",
          "height": 688
        },
        "id": "VoAtzYRpSZKD",
        "outputId": "9b8e69dd-11d1-4509-c0fe-81ffe1ad4874"
      },
      "execution_count": 35,
      "outputs": [
        {
          "output_type": "stream",
          "name": "stdout",
          "text": [
            "Epoch: 1 \tTraining Loss: 1.843461 \tValidation Loss: 0.460955\n",
            "Validation loss decreased (inf --> 0.460955).  Saving model ...\n",
            "Epoch: 2 \tTraining Loss: 1.843465 \tValidation Loss: 0.460937\n",
            "Validation loss decreased (0.460955 --> 0.460937).  Saving model ...\n",
            "Epoch: 3 \tTraining Loss: 1.843462 \tValidation Loss: 0.460957\n",
            "Epoch: 4 \tTraining Loss: 1.843462 \tValidation Loss: 0.460965\n",
            "Epoch: 5 \tTraining Loss: 1.843440 \tValidation Loss: 0.460965\n",
            "Epoch: 6 \tTraining Loss: 1.843453 \tValidation Loss: 0.460955\n",
            "Epoch: 7 \tTraining Loss: 1.843468 \tValidation Loss: 0.460962\n",
            "Epoch: 8 \tTraining Loss: 1.843439 \tValidation Loss: 0.460952\n",
            "Epoch: 9 \tTraining Loss: 1.843472 \tValidation Loss: 0.460954\n",
            "Epoch: 10 \tTraining Loss: 1.843436 \tValidation Loss: 0.460960\n",
            "Epoch: 11 \tTraining Loss: 1.843448 \tValidation Loss: 0.460955\n",
            "Epoch: 12 \tTraining Loss: 1.843492 \tValidation Loss: 0.460958\n",
            "Epoch: 13 \tTraining Loss: 1.843463 \tValidation Loss: 0.460950\n",
            "Epoch: 14 \tTraining Loss: 1.843452 \tValidation Loss: 0.460947\n",
            "Epoch: 15 \tTraining Loss: 1.843441 \tValidation Loss: 0.460952\n",
            "Epoch: 16 \tTraining Loss: 1.843446 \tValidation Loss: 0.460958\n",
            "Epoch: 17 \tTraining Loss: 1.843451 \tValidation Loss: 0.460960\n",
            "Epoch: 18 \tTraining Loss: 1.843475 \tValidation Loss: 0.460954\n",
            "Epoch: 19 \tTraining Loss: 1.843459 \tValidation Loss: 0.460954\n",
            "Epoch: 20 \tTraining Loss: 1.843441 \tValidation Loss: 0.460953\n"
          ]
        },
        {
          "output_type": "display_data",
          "data": {
            "text/plain": [
              "<Figure size 432x288 with 1 Axes>"
            ],
            "image/png": "[encoded data removed]"
          },
          "metadata": {
            "needs_background": "light"
          }
        }
      ]
    },
    {
      "cell_type": "markdown",
      "source": [
        "#9. Improving the model\n",
        "## Layer blocks, dropout"
      ],
      "metadata": {
        "id": "snoz-NlbYBnz"
      }
    },
    {
      "cell_type": "code",
      "source": [
        "class CNN4(nn.Module):\n",
        "  def __init__(self):\n",
        "        \n",
        "        super(torch.nested, self).__init__()\n",
        "\n",
        "        self.conv_layer = nn.Sequential(\n",
        "# Conv Layer block 1\n",
        "            nn.Conv2d(in_channels=3, out_channels=32, kernel_size=3, padding=1),\n",
        "            nn.BatchNorm2d(32),\n",
        "            nn.ReLU(inplace=True),\n",
        "            nn.Conv2d(in_channels=32, out_channels=64, kernel_size=3, padding=1),\n",
        "            nn.ReLU(inplace=True),\n",
        "            nn.MaxPool2d(kernel_size=2, stride=2),\n",
        "\n",
        "            # Conv Layer block 2\n",
        "            nn.Conv2d(in_channels=64, out_channels=128, kernel_size=3, padding=1),\n",
        "            nn.BatchNorm2d(128),\n",
        "            nn.ReLU(inplace=True),\n",
        "            nn.Conv2d(in_channels=128, out_channels=128, kernel_size=3, padding=1),\n",
        "            nn.ReLU(inplace=True),\n",
        "            nn.MaxPool2d(kernel_size=2, stride=2),\n",
        "            nn.Dropout2d(p=0.05),\n",
        "\n",
        "            # Conv Layer block 3\n",
        "            nn.Conv2d(in_channels=128, out_channels=256, kernel_size=3, padding=1),\n",
        "            nn.BatchNorm2d(256),\n",
        "            nn.ReLU(inplace=True),\n",
        "            nn.Conv2d(in_channels=256, out_channels=256, kernel_size=3, padding=1),\n",
        "            nn.ReLU(inplace=True),\n",
        "            nn.MaxPool2d(kernel_size=2, stride=2),\n",
        "        )\n",
        "\n",
        "\n",
        "        self.fc_layer = nn.Sequential(\n",
        "            nn.Dropout(p=0.1),\n",
        "            nn.Linear(4096, 1024),\n",
        "            nn.ReLU(inplace=True),\n",
        "            nn.Linear(1024, 512),\n",
        "            nn.ReLU(inplace=True),\n",
        "            nn.Dropout(p=0.1),\n",
        "            nn.Linear(512, 10)\n",
        "        )\n",
        "\n",
        "\n",
        "  def forward(self, x):\n",
        "        \n",
        "        # conv layers\n",
        "        x = self.conv_layer(x)\n",
        "        \n",
        "        # flatten\n",
        "        x = x.view(x.size(0), -1)\n",
        "        \n",
        "        # fc layer\n",
        "        x = self.fc_layer(x)\n",
        "\n",
        "        return x\n",
        "\n"
      ],
      "metadata": {
        "id": "ERIN--RqXROg"
      },
      "execution_count": 37,
      "outputs": []
    },
    {
      "cell_type": "code",
      "source": [
        "# number of epochs to train the model\n",
        "n_epochs = 30\n",
        "# initializing empty list for recording loss / epoch\n",
        "train_losslist = []\n",
        "valid_losslist = []\n",
        "valid_loss_min = np.Inf # track change in validation loss\n",
        "\n",
        "for epoch in range(1, n_epochs+1):\n",
        "\n",
        "    # keep track of training and validation loss\n",
        "    train_loss = 0.0\n",
        "    valid_loss = 0.0\n",
        "    \n",
        "\n",
        "    # training the model \n",
        "    \n",
        "    model.train()\n",
        "    for data, target in train_loader:\n",
        "        # for GPU\n",
        "        if gpu_trainer:\n",
        "            data, target = data.cuda(), target.cuda()\n",
        "        # clear the gradients of all optimized variables\n",
        "        optimizer.zero_grad()\n",
        "        # compute predicted outputs by passing inputs to the model\n",
        "        output = model(data)\n",
        "        # calculate the batch loss\n",
        "        loss = criterion(output, target)\n",
        "        # backward pass\n",
        "        loss.backward()\n",
        "        #parameter update\n",
        "        optimizer.step()\n",
        "        # update training loss\n",
        "        train_loss += loss.item()*data.size(0)\n",
        "        \n",
        "  \n",
        "    # validate the model\n",
        "\n",
        "    model.eval()\n",
        "    for data, target in valid_loader:\n",
        "        # if gpu is available\n",
        "        if gpu_trainer:\n",
        "            data, target = data.cuda(), target.cuda()\n",
        "        # forward pass:  predict outputs by passing inputs to the model\n",
        "        output = model(data)\n",
        "        # calculate the batch loss\n",
        "        loss = criterion(output, target)\n",
        "        # update average validation loss \n",
        "        valid_loss += loss.item()*data.size(0)\n",
        "    \n",
        "    # calculate average losses\n",
        "    train_loss = train_loss/len(train_loader.dataset)\n",
        "    valid_loss = valid_loss/len(valid_loader.dataset)\n",
        "    train_losslist.append(train_loss)\n",
        "    valid_losslist.append(valid_loss)\n",
        "        \n",
        "    # print training/validation statistics \n",
        "    print('Epoch: {} \\tTraining Loss: {:.6f} \\tValidation Loss: {:.6f}'.format(\n",
        "        epoch, train_loss, valid_loss))\n",
        "    \n",
        "    # save model if validation loss has decreased\n",
        "    if valid_loss <= valid_loss_min:\n",
        "        print('Validation loss decreased ({:.6f} --> {:.6f}).  Saving model ...'.format(\n",
        "        valid_loss_min,\n",
        "        valid_loss))\n",
        "        torch.save(model.state_dict(), 'model_cifar.pt')\n",
        "        valid_loss_min = valid_loss\n",
        "\n",
        "i = [*range(30)]\n",
        "plt.plot(i, train_losslist)\n",
        "plt.plot(i, valid_losslist)\n",
        "plt.xlabel(\"Epoch\")\n",
        "plt.ylabel(\"Loss\")\n",
        "plt.legend()\n",
        "plt.title(\"Performance of Model 4\")\n",
        "plt.show()"
      ],
      "metadata": {
        "colab": {
          "base_uri": "https://localhost:8080/",
          "height": 836
        },
        "id": "URnUHY54Yev5",
        "outputId": "0ba1cbd0-ce12-4ede-d144-2dd7a790ef99"
      },
      "execution_count": 38,
      "outputs": [
        {
          "output_type": "stream",
          "name": "stdout",
          "text": [
            "Epoch: 1 \tTraining Loss: 1.843459 \tValidation Loss: 0.460949\n",
            "Validation loss decreased (inf --> 0.460949).  Saving model ...\n",
            "Epoch: 2 \tTraining Loss: 1.843461 \tValidation Loss: 0.460961\n",
            "Epoch: 3 \tTraining Loss: 1.843459 \tValidation Loss: 0.460961\n",
            "Epoch: 4 \tTraining Loss: 1.843473 \tValidation Loss: 0.460955\n",
            "Epoch: 5 \tTraining Loss: 1.843464 \tValidation Loss: 0.460954\n",
            "Epoch: 6 \tTraining Loss: 1.843463 \tValidation Loss: 0.460964\n",
            "Epoch: 7 \tTraining Loss: 1.843462 \tValidation Loss: 0.460957\n",
            "Epoch: 8 \tTraining Loss: 1.843452 \tValidation Loss: 0.460960\n",
            "Epoch: 9 \tTraining Loss: 1.843454 \tValidation Loss: 0.460948\n",
            "Validation loss decreased (0.460949 --> 0.460948).  Saving model ...\n",
            "Epoch: 10 \tTraining Loss: 1.843466 \tValidation Loss: 0.460963\n",
            "Epoch: 11 \tTraining Loss: 1.843444 \tValidation Loss: 0.460951\n",
            "Epoch: 12 \tTraining Loss: 1.843474 \tValidation Loss: 0.460953\n",
            "Epoch: 13 \tTraining Loss: 1.843468 \tValidation Loss: 0.460958\n",
            "Epoch: 14 \tTraining Loss: 1.843464 \tValidation Loss: 0.460954\n",
            "Epoch: 15 \tTraining Loss: 1.843473 \tValidation Loss: 0.460943\n",
            "Validation loss decreased (0.460948 --> 0.460943).  Saving model ...\n",
            "Epoch: 16 \tTraining Loss: 1.843458 \tValidation Loss: 0.460961\n",
            "Epoch: 17 \tTraining Loss: 1.843455 \tValidation Loss: 0.460957\n",
            "Epoch: 18 \tTraining Loss: 1.843447 \tValidation Loss: 0.460955\n",
            "Epoch: 19 \tTraining Loss: 1.843450 \tValidation Loss: 0.460956\n",
            "Epoch: 20 \tTraining Loss: 1.843488 \tValidation Loss: 0.460941\n",
            "Validation loss decreased (0.460943 --> 0.460941).  Saving model ...\n",
            "Epoch: 21 \tTraining Loss: 1.843471 \tValidation Loss: 0.460945\n"
          ]
        },
        {
          "output_type": "error",
          "ename": "KeyboardInterrupt",
          "evalue": "ignored",
          "traceback": [
            "\u001b[0;31m---------------------------------------------------------------------------\u001b[0m",
            "\u001b[0;31mKeyboardInterrupt\u001b[0m                         Traceback (most recent call last)",
            "\u001b[0;32m<ipython-input-38-5175eba3453d>\u001b[0m in \u001b[0;36m<module>\u001b[0;34m\u001b[0m\n\u001b[1;32m     37\u001b[0m \u001b[0;34m\u001b[0m\u001b[0m\n\u001b[1;32m     38\u001b[0m     \u001b[0mmodel\u001b[0m\u001b[0;34m.\u001b[0m\u001b[0meval\u001b[0m\u001b[0;34m(\u001b[0m\u001b[0;34m)\u001b[0m\u001b[0;34m\u001b[0m\u001b[0;34m\u001b[0m\u001b[0m\n\u001b[0;32m---> 39\u001b[0;31m     \u001b[0;32mfor\u001b[0m \u001b[0mdata\u001b[0m\u001b[0;34m,\u001b[0m \u001b[0mtarget\u001b[0m \u001b[0;32min\u001b[0m \u001b[0mvalid_loader\u001b[0m\u001b[0;34m:\u001b[0m\u001b[0;34m\u001b[0m\u001b[0;34m\u001b[0m\u001b[0m\n\u001b[0m\u001b[1;32m     40\u001b[0m         \u001b[0;31m# if gpu is available\u001b[0m\u001b[0;34m\u001b[0m\u001b[0;34m\u001b[0m\u001b[0;34m\u001b[0m\u001b[0m\n\u001b[1;32m     41\u001b[0m         \u001b[0;32mif\u001b[0m \u001b[0mgpu_trainer\u001b[0m\u001b[0;34m:\u001b[0m\u001b[0;34m\u001b[0m\u001b[0;34m\u001b[0m\u001b[0m\n",
            "\u001b[0;32m/usr/local/lib/python3.8/dist-packages/torch/utils/data/dataloader.py\u001b[0m in \u001b[0;36m__next__\u001b[0;34m(self)\u001b[0m\n\u001b[1;32m    626\u001b[0m                 \u001b[0;31m# TODO(https://github.com/pytorch/pytorch/issues/76750)\u001b[0m\u001b[0;34m\u001b[0m\u001b[0;34m\u001b[0m\u001b[0;34m\u001b[0m\u001b[0m\n\u001b[1;32m    627\u001b[0m                 \u001b[0mself\u001b[0m\u001b[0;34m.\u001b[0m\u001b[0m_reset\u001b[0m\u001b[0;34m(\u001b[0m\u001b[0;34m)\u001b[0m  \u001b[0;31m# type: ignore[call-arg]\u001b[0m\u001b[0;34m\u001b[0m\u001b[0;34m\u001b[0m\u001b[0m\n\u001b[0;32m--> 628\u001b[0;31m             \u001b[0mdata\u001b[0m \u001b[0;34m=\u001b[0m \u001b[0mself\u001b[0m\u001b[0;34m.\u001b[0m\u001b[0m_next_data\u001b[0m\u001b[0;34m(\u001b[0m\u001b[0;34m)\u001b[0m\u001b[0;34m\u001b[0m\u001b[0;34m\u001b[0m\u001b[0m\n\u001b[0m\u001b[1;32m    629\u001b[0m             \u001b[0mself\u001b[0m\u001b[0;34m.\u001b[0m\u001b[0m_num_yielded\u001b[0m \u001b[0;34m+=\u001b[0m \u001b[0;36m1\u001b[0m\u001b[0;34m\u001b[0m\u001b[0;34m\u001b[0m\u001b[0m\n\u001b[1;32m    630\u001b[0m             \u001b[0;32mif\u001b[0m \u001b[0mself\u001b[0m\u001b[0;34m.\u001b[0m\u001b[0m_dataset_kind\u001b[0m \u001b[0;34m==\u001b[0m \u001b[0m_DatasetKind\u001b[0m\u001b[0;34m.\u001b[0m\u001b[0mIterable\u001b[0m \u001b[0;32mand\u001b[0m\u001b[0;31m \u001b[0m\u001b[0;31m\\\u001b[0m\u001b[0;34m\u001b[0m\u001b[0;34m\u001b[0m\u001b[0m\n",
            "\u001b[0;32m/usr/local/lib/python3.8/dist-packages/torch/utils/data/dataloader.py\u001b[0m in \u001b[0;36m_next_data\u001b[0;34m(self)\u001b[0m\n\u001b[1;32m    668\u001b[0m \u001b[0;34m\u001b[0m\u001b[0m\n\u001b[1;32m    669\u001b[0m     \u001b[0;32mdef\u001b[0m \u001b[0m_next_data\u001b[0m\u001b[0;34m(\u001b[0m\u001b[0mself\u001b[0m\u001b[0;34m)\u001b[0m\u001b[0;34m:\u001b[0m\u001b[0;34m\u001b[0m\u001b[0;34m\u001b[0m\u001b[0m\n\u001b[0;32m--> 670\u001b[0;31m         \u001b[0mindex\u001b[0m \u001b[0;34m=\u001b[0m \u001b[0mself\u001b[0m\u001b[0;34m.\u001b[0m\u001b[0m_next_index\u001b[0m\u001b[0;34m(\u001b[0m\u001b[0;34m)\u001b[0m  \u001b[0;31m# may raise StopIteration\u001b[0m\u001b[0;34m\u001b[0m\u001b[0;34m\u001b[0m\u001b[0m\n\u001b[0m\u001b[1;32m    671\u001b[0m         \u001b[0mdata\u001b[0m \u001b[0;34m=\u001b[0m \u001b[0mself\u001b[0m\u001b[0;34m.\u001b[0m\u001b[0m_dataset_fetcher\u001b[0m\u001b[0;34m.\u001b[0m\u001b[0mfetch\u001b[0m\u001b[0;34m(\u001b[0m\u001b[0mindex\u001b[0m\u001b[0;34m)\u001b[0m  \u001b[0;31m# may raise StopIteration\u001b[0m\u001b[0;34m\u001b[0m\u001b[0;34m\u001b[0m\u001b[0m\n\u001b[1;32m    672\u001b[0m         \u001b[0;32mif\u001b[0m \u001b[0mself\u001b[0m\u001b[0;34m.\u001b[0m\u001b[0m_pin_memory\u001b[0m\u001b[0;34m:\u001b[0m\u001b[0;34m\u001b[0m\u001b[0;34m\u001b[0m\u001b[0m\n",
            "\u001b[0;32m/usr/local/lib/python3.8/dist-packages/torch/utils/data/dataloader.py\u001b[0m in \u001b[0;36m_next_index\u001b[0;34m(self)\u001b[0m\n\u001b[1;32m    616\u001b[0m \u001b[0;34m\u001b[0m\u001b[0m\n\u001b[1;32m    617\u001b[0m     \u001b[0;32mdef\u001b[0m \u001b[0m_next_index\u001b[0m\u001b[0;34m(\u001b[0m\u001b[0mself\u001b[0m\u001b[0;34m)\u001b[0m\u001b[0;34m:\u001b[0m\u001b[0;34m\u001b[0m\u001b[0;34m\u001b[0m\u001b[0m\n\u001b[0;32m--> 618\u001b[0;31m         \u001b[0;32mreturn\u001b[0m \u001b[0mnext\u001b[0m\u001b[0;34m(\u001b[0m\u001b[0mself\u001b[0m\u001b[0;34m.\u001b[0m\u001b[0m_sampler_iter\u001b[0m\u001b[0;34m)\u001b[0m  \u001b[0;31m# may raise StopIteration\u001b[0m\u001b[0;34m\u001b[0m\u001b[0;34m\u001b[0m\u001b[0m\n\u001b[0m\u001b[1;32m    619\u001b[0m \u001b[0;34m\u001b[0m\u001b[0m\n\u001b[1;32m    620\u001b[0m     \u001b[0;32mdef\u001b[0m \u001b[0m_next_data\u001b[0m\u001b[0;34m(\u001b[0m\u001b[0mself\u001b[0m\u001b[0;34m)\u001b[0m\u001b[0;34m:\u001b[0m\u001b[0;34m\u001b[0m\u001b[0;34m\u001b[0m\u001b[0m\n",
            "\u001b[0;32m/usr/local/lib/python3.8/dist-packages/torch/utils/data/sampler.py\u001b[0m in \u001b[0;36m__iter__\u001b[0;34m(self)\u001b[0m\n\u001b[1;32m    252\u001b[0m             \u001b[0mbatch\u001b[0m \u001b[0;34m=\u001b[0m \u001b[0;34m[\u001b[0m\u001b[0;36m0\u001b[0m\u001b[0;34m]\u001b[0m \u001b[0;34m*\u001b[0m \u001b[0mself\u001b[0m\u001b[0;34m.\u001b[0m\u001b[0mbatch_size\u001b[0m\u001b[0;34m\u001b[0m\u001b[0;34m\u001b[0m\u001b[0m\n\u001b[1;32m    253\u001b[0m             \u001b[0midx_in_batch\u001b[0m \u001b[0;34m=\u001b[0m \u001b[0;36m0\u001b[0m\u001b[0;34m\u001b[0m\u001b[0;34m\u001b[0m\u001b[0m\n\u001b[0;32m--> 254\u001b[0;31m             \u001b[0;32mfor\u001b[0m \u001b[0midx\u001b[0m \u001b[0;32min\u001b[0m \u001b[0mself\u001b[0m\u001b[0;34m.\u001b[0m\u001b[0msampler\u001b[0m\u001b[0;34m:\u001b[0m\u001b[0;34m\u001b[0m\u001b[0;34m\u001b[0m\u001b[0m\n\u001b[0m\u001b[1;32m    255\u001b[0m                 \u001b[0mbatch\u001b[0m\u001b[0;34m[\u001b[0m\u001b[0midx_in_batch\u001b[0m\u001b[0;34m]\u001b[0m \u001b[0;34m=\u001b[0m \u001b[0midx\u001b[0m\u001b[0;34m\u001b[0m\u001b[0;34m\u001b[0m\u001b[0m\n\u001b[1;32m    256\u001b[0m                 \u001b[0midx_in_batch\u001b[0m \u001b[0;34m+=\u001b[0m \u001b[0;36m1\u001b[0m\u001b[0;34m\u001b[0m\u001b[0;34m\u001b[0m\u001b[0m\n",
            "\u001b[0;32m/usr/local/lib/python3.8/dist-packages/torch/utils/data/sampler.py\u001b[0m in \u001b[0;36m__iter__\u001b[0;34m(self)\u001b[0m\n\u001b[1;32m    152\u001b[0m     \u001b[0;32mdef\u001b[0m \u001b[0m__iter__\u001b[0m\u001b[0;34m(\u001b[0m\u001b[0mself\u001b[0m\u001b[0;34m)\u001b[0m \u001b[0;34m->\u001b[0m \u001b[0mIterator\u001b[0m\u001b[0;34m[\u001b[0m\u001b[0mint\u001b[0m\u001b[0;34m]\u001b[0m\u001b[0;34m:\u001b[0m\u001b[0;34m\u001b[0m\u001b[0;34m\u001b[0m\u001b[0m\n\u001b[1;32m    153\u001b[0m         \u001b[0;32mfor\u001b[0m \u001b[0mi\u001b[0m \u001b[0;32min\u001b[0m \u001b[0mtorch\u001b[0m\u001b[0;34m.\u001b[0m\u001b[0mrandperm\u001b[0m\u001b[0;34m(\u001b[0m\u001b[0mlen\u001b[0m\u001b[0;34m(\u001b[0m\u001b[0mself\u001b[0m\u001b[0;34m.\u001b[0m\u001b[0mindices\u001b[0m\u001b[0;34m)\u001b[0m\u001b[0;34m,\u001b[0m \u001b[0mgenerator\u001b[0m\u001b[0;34m=\u001b[0m\u001b[0mself\u001b[0m\u001b[0;34m.\u001b[0m\u001b[0mgenerator\u001b[0m\u001b[0;34m)\u001b[0m\u001b[0;34m:\u001b[0m\u001b[0;34m\u001b[0m\u001b[0;34m\u001b[0m\u001b[0m\n\u001b[0;32m--> 154\u001b[0;31m             \u001b[0;32myield\u001b[0m \u001b[0mself\u001b[0m\u001b[0;34m.\u001b[0m\u001b[0mindices\u001b[0m\u001b[0;34m[\u001b[0m\u001b[0mi\u001b[0m\u001b[0;34m]\u001b[0m\u001b[0;34m\u001b[0m\u001b[0;34m\u001b[0m\u001b[0m\n\u001b[0m\u001b[1;32m    155\u001b[0m \u001b[0;34m\u001b[0m\u001b[0m\n\u001b[1;32m    156\u001b[0m     \u001b[0;32mdef\u001b[0m \u001b[0m__len__\u001b[0m\u001b[0;34m(\u001b[0m\u001b[0mself\u001b[0m\u001b[0;34m)\u001b[0m \u001b[0;34m->\u001b[0m \u001b[0mint\u001b[0m\u001b[0;34m:\u001b[0m\u001b[0;34m\u001b[0m\u001b[0;34m\u001b[0m\u001b[0m\n",
            "\u001b[0;31mKeyboardInterrupt\u001b[0m: "
          ]
        }
      ]
    }
  ]
}